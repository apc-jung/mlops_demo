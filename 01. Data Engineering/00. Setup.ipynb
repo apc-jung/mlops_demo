{
 "cells": [
  {
   "cell_type": "markdown",
   "metadata": {
    "application/vnd.databricks.v1+cell": {
     "cellMetadata": {
      "byteLimit": 2048000,
      "rowLimit": 10000
     },
     "inputWidgets": {},
     "nuid": "559d0d8b-7da7-46b6-895b-f7dd1f50db17",
     "showTitle": false,
     "tableResultSettingsMap": {},
     "title": ""
    }
   },
   "source": [
    "## 準備準備\n",
    "### カタログ、スキーマ、ボリュームなど"
   ]
  },
  {
   "cell_type": "code",
   "execution_count": 0,
   "metadata": {
    "application/vnd.databricks.v1+cell": {
     "cellMetadata": {
      "byteLimit": 2048000,
      "implicitDf": true,
      "rowLimit": 10000
     },
     "inputWidgets": {},
     "nuid": "25f3d94d-692a-4464-a280-2ba92135c4e6",
     "showTitle": false,
     "tableResultSettingsMap": {},
     "title": ""
    }
   },
   "outputs": [],
   "source": [
    "%sql\n",
    "CREATE CATALOG IF NOT EXISTS MLOps;\n",
    "CREATE SCHEMA IF NOT EXISTS MLOps.raw;\n",
    "CREATE SCHEMA IF NOT EXISTS MLOps.data;\n",
    "CREATE VOLUME IF NOT EXISTS MLOps.raw.source_files;"
   ]
  },
  {
   "cell_type": "code",
   "execution_count": 0,
   "metadata": {
    "application/vnd.databricks.v1+cell": {
     "cellMetadata": {
      "byteLimit": 2048000,
      "rowLimit": 10000
     },
     "inputWidgets": {},
     "nuid": "3f3ecbf2-8142-4b54-b398-c021645257ef",
     "showTitle": false,
     "tableResultSettingsMap": {},
     "title": ""
    }
   },
   "outputs": [],
   "source": [
    "src_volume = \"/Volumes/databricks_simulated_retail_customer_data/v01/source_files/customers.csv\"\n",
    "dst_volume = \"/Volumes/MLOps/raw/source_files/customers/\"\n",
    "\n",
    "# Ensure destination directory exists\n",
    "dbutils.fs.mkdirs(dst_volume)\n",
    "\n",
    "src_files = dbutils.fs.ls(src_volume)\n",
    "dst_files = dbutils.fs.ls(dst_volume)\n",
    "src_file_names = set(f.name for f in src_files)\n",
    "dst_file_names = set(f.name for f in dst_files)\n",
    "\n",
    "if src_file_names != dst_file_names:\n",
    "    for f in src_files:\n",
    "        src_path = f.path\n",
    "        dst_path = src_path.replace(src_volume, dst_volume, 1)\n",
    "        dbutils.fs.cp(src_path, dst_path, recurse=True)\n",
    "    print(\"複製しました。\")\n",
    "else:\n",
    "    print(\"複製されたファイルが存在します。\")"
   ]
  },
  {
   "cell_type": "code",
   "execution_count": 0,
   "metadata": {
    "application/vnd.databricks.v1+cell": {
     "cellMetadata": {
      "byteLimit": 2048000,
      "rowLimit": 10000
     },
     "inputWidgets": {},
     "nuid": "ca513866-0cea-4ef8-9e39-299a1886ef6b",
     "showTitle": false,
     "tableResultSettingsMap": {},
     "title": ""
    }
   },
   "outputs": [],
   "source": [
    "%fs ls /Volumes/MLOps/raw/source_files/customers/"
   ]
  },
  {
   "cell_type": "code",
   "execution_count": 0,
   "metadata": {
    "application/vnd.databricks.v1+cell": {
     "cellMetadata": {
      "byteLimit": 2048000,
      "rowLimit": 10000
     },
     "inputWidgets": {},
     "nuid": "29b2cbce-1af5-4e65-81b9-e1766a552412",
     "showTitle": false,
     "tableResultSettingsMap": {},
     "title": ""
    }
   },
   "outputs": [],
   "source": [
    "src_volume = \"/Volumes/databricks_simulated_retail_customer_data/v01/source_files/sales.csv\"\n",
    "dst_volume = \"/Volumes/MLOps/raw/source_files/sales/\"\n",
    "\n",
    "# Ensure destination directory exists\n",
    "dbutils.fs.mkdirs(dst_volume)\n",
    "\n",
    "src_files = dbutils.fs.ls(src_volume)\n",
    "dst_files = dbutils.fs.ls(dst_volume)\n",
    "src_file_names = set(f.name for f in src_files)\n",
    "dst_file_names = set(f.name for f in dst_files)\n",
    "\n",
    "if src_file_names != dst_file_names:\n",
    "    for f in src_files:\n",
    "        src_path = f.path\n",
    "        dst_path = src_path.replace(src_volume, dst_volume, 1)\n",
    "        dbutils.fs.cp(src_path, dst_path, recurse=True)\n",
    "    print(\"複製しました。\")\n",
    "else:\n",
    "    print(\"複製されたファイルが存在します。\")"
   ]
  },
  {
   "cell_type": "code",
   "execution_count": 0,
   "metadata": {
    "application/vnd.databricks.v1+cell": {
     "cellMetadata": {
      "byteLimit": 2048000,
      "rowLimit": 10000
     },
     "inputWidgets": {},
     "nuid": "c4c35bcc-bd52-44ae-88e1-3e240a229762",
     "showTitle": false,
     "tableResultSettingsMap": {},
     "title": ""
    }
   },
   "outputs": [],
   "source": [
    "%fs ls /Volumes/MLOps/raw/source_files/sales/"
   ]
  },
  {
   "cell_type": "code",
   "execution_count": 0,
   "metadata": {
    "application/vnd.databricks.v1+cell": {
     "cellMetadata": {
      "byteLimit": 2048000,
      "rowLimit": 10000
     },
     "inputWidgets": {},
     "nuid": "fc004188-ed48-4576-a609-27f53cd3895b",
     "showTitle": false,
     "tableResultSettingsMap": {},
     "title": ""
    }
   },
   "outputs": [],
   "source": [
    "src_volume = \"/Volumes/databricks_simulated_retail_customer_data/v01/source_files/sales_orders.csv\"\n",
    "dst_volume = \"/Volumes/MLOps/raw/source_files/sales_orders/\"\n",
    "\n",
    "# Ensure destination directory exists\n",
    "dbutils.fs.mkdirs(dst_volume)\n",
    "\n",
    "src_files = dbutils.fs.ls(src_volume)\n",
    "dst_files = dbutils.fs.ls(dst_volume)\n",
    "src_file_names = set(f.name for f in src_files)\n",
    "dst_file_names = set(f.name for f in dst_files)\n",
    "\n",
    "if src_file_names != dst_file_names:\n",
    "    for f in src_files:\n",
    "        src_path = f.path\n",
    "        dst_path = src_path.replace(src_volume, dst_volume, 1)\n",
    "        dbutils.fs.cp(src_path, dst_path, recurse=True)\n",
    "    print(\"複製しました。\")\n",
    "else:\n",
    "    print(\"複製されたファイルが存在します。\")"
   ]
  },
  {
   "cell_type": "code",
   "execution_count": 0,
   "metadata": {
    "application/vnd.databricks.v1+cell": {
     "cellMetadata": {
      "byteLimit": 2048000,
      "rowLimit": 10000
     },
     "inputWidgets": {},
     "nuid": "e122d00c-d685-4cde-8791-1678a7141672",
     "showTitle": false,
     "tableResultSettingsMap": {},
     "title": ""
    }
   },
   "outputs": [],
   "source": [
    "%fs ls /Volumes/MLOps/raw/source_files/sales_orders/"
   ]
  }
 ],
 "metadata": {
  "application/vnd.databricks.v1+notebook": {
   "computePreferences": {
    "hardware": {
     "accelerator": null,
     "gpuPoolId": null,
     "memory": null
    }
   },
   "dashboards": [],
   "environmentMetadata": {
    "base_environment": "",
    "environment_version": "2"
   },
   "inputWidgetPreferences": null,
   "language": "python",
   "notebookMetadata": {
    "mostRecentlyExecutedCommandWithImplicitDF": {
     "commandId": 6358541138877236,
     "dataframes": [
      "_sqldf"
     ]
    },
    "pythonIndentUnit": 4
   },
   "notebookName": "00. Setup",
   "widgets": {}
  },
  "language_info": {
   "name": "python"
  }
 },
 "nbformat": 4,
 "nbformat_minor": 0
}
