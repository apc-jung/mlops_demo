{
 "cells": [
  {
   "cell_type": "code",
   "execution_count": 0,
   "metadata": {
    "application/vnd.databricks.v1+cell": {
     "cellMetadata": {
      "byteLimit": 2048000,
      "implicitDf": true,
      "rowLimit": 10000
     },
     "inputWidgets": {},
     "nuid": "9a998f0f-f4f8-4c8f-a349-1417b70a9d4d",
     "showTitle": false,
     "tableResultSettingsMap": {},
     "title": ""
    }
   },
   "outputs": [],
   "source": [
    "%sql\n",
    "DROP SCHEMA IF EXISTS mlops.data CASCADE;\n",
    "DROP SCHEMA IF EXISTS mlops.model CASCADE;"
   ]
  },
  {
   "cell_type": "code",
   "execution_count": 0,
   "metadata": {
    "application/vnd.databricks.v1+cell": {
     "cellMetadata": {
      "byteLimit": 2048000,
      "implicitDf": true,
      "rowLimit": 10000
     },
     "inputWidgets": {},
     "nuid": "159b8d7d-62d9-4799-9e9c-99c4000a6298",
     "showTitle": false,
     "tableResultSettingsMap": {},
     "title": ""
    }
   },
   "outputs": [],
   "source": [
    "%sql\n",
    "create schema mlops.data;\n",
    "create schema mlops.model;"
   ]
  },
  {
   "cell_type": "code",
   "execution_count": 0,
   "metadata": {
    "application/vnd.databricks.v1+cell": {
     "cellMetadata": {
      "byteLimit": 2048000,
      "rowLimit": 10000
     },
     "inputWidgets": {},
     "nuid": "94203d05-9e40-4329-bf83-d786cea30950",
     "showTitle": false,
     "tableResultSettingsMap": {
      "0": {
       "dataGridStateBlob": "{\"version\":1,\"tableState\":{\"columnPinning\":{\"left\":[\"#row_number#\"],\"right\":[]},\"columnSizing\":{\"max_order_datetime\":731},\"columnVisibility\":{}},\"settings\":{\"columns\":{}},\"syncTimestamp\":1755590153892}",
       "filterBlob": null,
       "queryPlanFiltersBlob": null,
       "tableResultIndex": 0
      }
     },
     "title": ""
    }
   },
   "outputs": [],
   "source": [
    "%sql\n",
    "SELECT\n",
    "  MIN(order_datetime) AS min_order_datetime,\n",
    "  MAX(order_datetime) AS max_order_datetime\n",
    "FROM test_catalog.default.sales_orders_customer_join_min"
   ]
  },
  {
   "cell_type": "code",
   "execution_count": 0,
   "metadata": {
    "application/vnd.databricks.v1+cell": {
     "cellMetadata": {
      "byteLimit": 2048000,
      "rowLimit": 10000
     },
     "inputWidgets": {},
     "nuid": "544e94c1-44b3-45d5-ba4a-f928d597cf1e",
     "showTitle": false,
     "tableResultSettingsMap": {},
     "title": ""
    }
   },
   "outputs": [],
   "source": [
    "%sql\n",
    "SELECT\n",
    "  *\n",
    "FROM test_catalog.default.batch_recommendations_topn_30d"
   ]
  },
  {
   "cell_type": "code",
   "execution_count": 0,
   "metadata": {
    "application/vnd.databricks.v1+cell": {
     "cellMetadata": {
      "byteLimit": 2048000,
      "rowLimit": 10000
     },
     "inputWidgets": {},
     "nuid": "916c3cf5-ba4b-459e-8dc5-76c9b446b2d2",
     "showTitle": false,
     "tableResultSettingsMap": {},
     "title": ""
    }
   },
   "outputs": [],
   "source": [
    "%sql\n",
    "SELECT\n",
    "  *\n",
    "FROM test_catalog.default.als_interactions_30d"
   ]
  },
  {
   "cell_type": "code",
   "execution_count": 0,
   "metadata": {
    "application/vnd.databricks.v1+cell": {
     "cellMetadata": {
      "byteLimit": 2048000,
      "rowLimit": 10000
     },
     "inputWidgets": {},
     "nuid": "5bfad76c-1eb7-4c9a-ac52-f3367565f64c",
     "showTitle": false,
     "tableResultSettingsMap": {},
     "title": ""
    }
   },
   "outputs": [],
   "source": [
    "%sql\n",
    "SELECT b.* \n",
    "FROM test_catalog.default.sales_orders_bronze b\n",
    "LEFT ANTI JOIN databricks_simulated_retail_customer_data.v01.sales_orders r\n",
    "ON b.order_number = r.order_number;\n"
   ]
  },
  {
   "cell_type": "code",
   "execution_count": 0,
   "metadata": {
    "application/vnd.databricks.v1+cell": {
     "cellMetadata": {
      "byteLimit": 2048000,
      "rowLimit": 10000
     },
     "inputWidgets": {},
     "nuid": "bcf2e2c4-7fd0-4142-bc4d-e7a02111d527",
     "showTitle": false,
     "tableResultSettingsMap": {},
     "title": ""
    }
   },
   "outputs": [],
   "source": [
    "%sql\n",
    "SELECT r.* \n",
    "FROM databricks_simulated_retail_customer_data.v01.sales_orders r\n",
    "LEFT ANTI JOIN test_catalog.default.sales_orders_bronze b\n",
    "ON r.order_number = b.order_number;"
   ]
  },
  {
   "cell_type": "code",
   "execution_count": 0,
   "metadata": {
    "application/vnd.databricks.v1+cell": {
     "cellMetadata": {
      "byteLimit": 2048000,
      "rowLimit": 10000
     },
     "inputWidgets": {},
     "nuid": "6ed3fb7b-db61-4b01-a5f0-15f0aefc4b1b",
     "showTitle": false,
     "tableResultSettingsMap": {},
     "title": ""
    }
   },
   "outputs": [],
   "source": [
    "%sql\n",
    "SELECT b.* \n",
    "FROM test_catalog.default.customers_bronze b\n",
    "LEFT ANTI JOIN databricks_simulated_retail_customer_data.v01.customers r\n",
    "ON b.customer_id = r.customer_id;\n"
   ]
  },
  {
   "cell_type": "code",
   "execution_count": 0,
   "metadata": {
    "application/vnd.databricks.v1+cell": {
     "cellMetadata": {
      "byteLimit": 2048000,
      "rowLimit": 10000
     },
     "inputWidgets": {},
     "nuid": "739b763f-845f-40a7-bd8e-194a4edc9736",
     "showTitle": false,
     "tableResultSettingsMap": {},
     "title": ""
    }
   },
   "outputs": [],
   "source": [
    "%sql\n",
    "SELECT b.* \n",
    "FROM test_catalog.default.customers_bronze b\n",
    "LEFT ANTI JOIN databricks_simulated_retail_customer_data.v01.customers r\n",
    "ON b.customer_id = r.customer_id;"
   ]
  },
  {
   "cell_type": "code",
   "execution_count": 0,
   "metadata": {
    "application/vnd.databricks.v1+cell": {
     "cellMetadata": {
      "byteLimit": 2048000,
      "rowLimit": 10000
     },
     "inputWidgets": {},
     "nuid": "c9005395-c3ef-434f-8474-67d90dbcc1a9",
     "showTitle": false,
     "tableResultSettingsMap": {},
     "title": ""
    }
   },
   "outputs": [],
   "source": [
    "%sql\n",
    "SELECT\n",
    "  *\n",
    "FROM test_catalog.default.sales_orders_customer_join_min"
   ]
  },
  {
   "cell_type": "code",
   "execution_count": 0,
   "metadata": {
    "application/vnd.databricks.v1+cell": {
     "cellMetadata": {
      "byteLimit": 2048000,
      "rowLimit": 10000
     },
     "inputWidgets": {},
     "nuid": "ecd2ef6d-0260-4466-befb-9f0d8d250898",
     "showTitle": false,
     "tableResultSettingsMap": {},
     "title": ""
    }
   },
   "outputs": [],
   "source": [
    "%sql\n",
    "SELECT\n",
    "  *\n",
    "FROM test_catalog.default.customers_bronze"
   ]
  },
  {
   "cell_type": "code",
   "execution_count": 0,
   "metadata": {
    "application/vnd.databricks.v1+cell": {
     "cellMetadata": {
      "byteLimit": 2048000,
      "rowLimit": 10000
     },
     "inputWidgets": {},
     "nuid": "82091d00-3275-4b27-b361-3dba70c07cf9",
     "showTitle": false,
     "tableResultSettingsMap": {},
     "title": ""
    }
   },
   "outputs": [],
   "source": [
    "%sql\n",
    "SELECT\n",
    "  *\n",
    "FROM test_catalog.default.customers_silver"
   ]
  },
  {
   "cell_type": "code",
   "execution_count": 0,
   "metadata": {
    "application/vnd.databricks.v1+cell": {
     "cellMetadata": {
      "byteLimit": 2048000,
      "rowLimit": 10000
     },
     "inputWidgets": {},
     "nuid": "5bac7b4e-32bd-4ec0-b4a2-4610624d635b",
     "showTitle": false,
     "tableResultSettingsMap": {},
     "title": ""
    }
   },
   "outputs": [],
   "source": [
    "%sql\n",
    "SELECT\n",
    "  *\n",
    "FROM test_catalog.default.sales_orders_bronze"
   ]
  },
  {
   "cell_type": "code",
   "execution_count": 0,
   "metadata": {
    "application/vnd.databricks.v1+cell": {
     "cellMetadata": {
      "byteLimit": 2048000,
      "rowLimit": 10000
     },
     "inputWidgets": {},
     "nuid": "d7d16b6a-a7dc-462f-8d48-65ce4b5f61cd",
     "showTitle": false,
     "tableResultSettingsMap": {},
     "title": ""
    }
   },
   "outputs": [],
   "source": [
    "%sql\n",
    "SELECT\n",
    "  *\n",
    "FROM test_catalog.default.sales_orders_silver"
   ]
  },
  {
   "cell_type": "code",
   "execution_count": 0,
   "metadata": {
    "application/vnd.databricks.v1+cell": {
     "cellMetadata": {
      "byteLimit": 2048000,
      "rowLimit": 10000
     },
     "inputWidgets": {},
     "nuid": "abf794c0-38e9-4e57-99b3-e48e8f4734ee",
     "showTitle": false,
     "tableResultSettingsMap": {
      "0": {
       "dataGridStateBlob": "{\"version\":1,\"tableState\":{\"columnPinning\":{\"left\":[\"#row_number#\"],\"right\":[]},\"columnSizing\":{},\"columnVisibility\":{}},\"settings\":{\"columns\":{}},\"syncTimestamp\":1755590253887}",
       "filterBlob": null,
       "queryPlanFiltersBlob": null,
       "tableResultIndex": 0
      }
     },
     "title": ""
    }
   },
   "outputs": [],
   "source": [
    "%sql\n",
    "SELECT\n",
    "  *\n",
    "FROM test_catalog.default.sales_orders_bronze"
   ]
  },
  {
   "cell_type": "code",
   "execution_count": 0,
   "metadata": {
    "application/vnd.databricks.v1+cell": {
     "cellMetadata": {},
     "inputWidgets": {},
     "nuid": "1dd46f75-c6b4-4cf9-b41e-dbf541de601d",
     "showTitle": false,
     "tableResultSettingsMap": {},
     "title": ""
    }
   },
   "outputs": [],
   "source": [
    "%sql\n",
    "SELECT\n",
    "  *\n",
    "FROM "
   ]
  },
  {
   "cell_type": "code",
   "execution_count": 0,
   "metadata": {
    "application/vnd.databricks.v1+cell": {
     "cellMetadata": {},
     "inputWidgets": {},
     "nuid": "8e0b5b90-092d-43b6-afc2-a76fd572007b",
     "showTitle": false,
     "tableResultSettingsMap": {},
     "title": ""
    }
   },
   "outputs": [],
   "source": [
    "from pyspark.sql import functions as F, types as T\n",
    "\n",
    "ITEMS_SCHEMA = T.ArrayType(\n",
    "    T.StructType([\n",
    "        T.StructField(\"curr\", T.StringType()),\n",
    "        T.StructField(\"id\",   T.StringType()),\n",
    "        T.StructField(\"name\", T.StringType()),\n",
    "        T.StructField(\"price\",T.StringType()),\n",
    "        T.StructField(\"promotion_info\", T.StringType()),\n",
    "        T.StructField(\"qty\",  T.StringType()),\n",
    "        T.StructField(\"unit\", T.StringType()),\n",
    "    ])\n",
    ")\n",
    "\n",
    "base = spark.read.table(\n",
    "    \"test_catalog.default.sales_orders_customer_join_min\"\n",
    ").alias(\"base\")\n",
    "\n",
    "j = (\n",
    "    base.withColumn(\n",
    "        \"ts\",\n",
    "        F.to_timestamp(\n",
    "            F.from_unixtime(\n",
    "                F.col(\"order_datetime\").cast(\"bigint\")\n",
    "            )\n",
    "        )\n",
    "    )\n",
    "    .withColumn(\n",
    "        \"items\",\n",
    "        F.from_json(\"ordered_products\", ITEMS_SCHEMA)\n",
    "    )\n",
    "    .withColumn(\n",
    "        \"p\",\n",
    "        F.explode(\"items\")\n",
    "    )\n",
    ")\n",
    "\n",
    "mx = j.agg(F.max(\"ts\").alias(\"max_ts\"))\n",
    "j = j.crossJoin(mx)\n",
    "w30 = F.col(\"ts\") >= F.date_sub(F.col(\"max_ts\"), 30)\n",
    "\n",
    "result = (\n",
    "    j.where(w30)\n",
    "    .select(\n",
    "        \"customer_id\",\n",
    "        F.col(\"p.id\").alias(\"product_id\"),\n",
    "        F.col(\"p.qty\").cast(\"int\").alias(\"qty\")\n",
    "    )\n",
    "    .where(\n",
    "        F.col(\"qty\").isNotNull() & (F.col(\"qty\") > 0)\n",
    "    )\n",
    "    .groupBy(\"customer_id\", \"product_id\")\n",
    "    .agg(\n",
    "        F.sum(\"qty\").alias(\"total_qty\")\n",
    "    )\n",
    "    .withColumn(\n",
    "        \"interaction_weight\",\n",
    "        F.log1p(F.col(\"total_qty\"))\n",
    "    )\n",
    ")\n",
    "\n",
    "display(result)"
   ]
  }
 ],
 "metadata": {
  "application/vnd.databricks.v1+notebook": {
   "computePreferences": {
    "hardware": {
     "accelerator": null,
     "gpuPoolId": null,
     "memory": "HIGH"
    }
   },
   "dashboards": [],
   "environmentMetadata": {
    "base_environment": "",
    "environment_version": "4"
   },
   "inputWidgetPreferences": null,
   "language": "python",
   "notebookMetadata": {
    "mostRecentlyExecutedCommandWithImplicitDF": {
     "commandId": 7975579859100015,
     "dataframes": [
      "_sqldf"
     ]
    },
    "pythonIndentUnit": 4
   },
   "notebookName": "data check",
   "widgets": {}
  },
  "language_info": {
   "name": "python"
  }
 },
 "nbformat": 4,
 "nbformat_minor": 0
}
