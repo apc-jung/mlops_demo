{
 "cells": [
  {
   "cell_type": "markdown",
   "metadata": {
    "application/vnd.databricks.v1+cell": {
     "cellMetadata": {},
     "inputWidgets": {},
     "nuid": "e14a88c8-f520-426b-a18a-ced1a87f4e8b",
     "showTitle": false,
     "tableResultSettingsMap": {},
     "title": ""
    }
   },
   "source": [
    "## Silver Layer"
   ]
  },
  {
   "cell_type": "code",
   "execution_count": 0,
   "metadata": {
    "application/vnd.databricks.v1+cell": {
     "cellMetadata": {},
     "inputWidgets": {},
     "nuid": "ea7edfe1-c6b5-4870-a6a5-5fa244ae705d",
     "showTitle": false,
     "tableResultSettingsMap": {},
     "title": ""
    }
   },
   "outputs": [],
   "source": [
    "import dlt\n",
    "from pyspark.sql import functions as F"
   ]
  },
  {
   "cell_type": "code",
   "execution_count": 0,
   "metadata": {
    "application/vnd.databricks.v1+cell": {
     "cellMetadata": {},
     "inputWidgets": {},
     "nuid": "bda5451c-a433-495c-9a47-35e9a145833f",
     "showTitle": false,
     "tableResultSettingsMap": {},
     "title": ""
    }
   },
   "outputs": [],
   "source": [
    "# 共通の前処理\n",
    "def not_null_and_not_blank(col_name: str):\n",
    "    return (F.col(col_name).isNotNull()) & (F.trim(F.col(col_name)) != \"\")"
   ]
  },
  {
   "cell_type": "code",
   "execution_count": 0,
   "metadata": {
    "application/vnd.databricks.v1+cell": {
     "cellMetadata": {},
     "inputWidgets": {},
     "nuid": "585db3ee-27e1-4ba8-a67f-e2ae632b1253",
     "showTitle": false,
     "tableResultSettingsMap": {},
     "title": ""
    }
   },
   "outputs": [],
   "source": [
    "@dlt.table(\n",
    "    name=\"customers_cleansed\",\n",
    "    comment=\"Cleansed customers table (silver).\",\n",
    "    table_properties={\"quality\": \"silver\"}\n",
    ")\n",
    "@dlt.expect_or_fail(\"pk_must_exist\", \"customer_id IS NOT NULL AND trim(customer_id) != ''\")\n",
    "@dlt.expect_all_or_drop({\n",
    "    \"state_present\": \"state IS NOT NULL AND trim(state) != ''\",\n",
    "    \"city_present\": \"city IS NOT NULL AND trim(city) != ''\",\n",
    "    \"units_present\": \"units_purchased IS NOT NULL AND trim(units_purchased) != ''\",\n",
    "    \"loyalty_present\": \"loyalty_segment IS NOT NULL AND trim(loyalty_segment) != ''\"\n",
    "})\n",
    "\n",
    "def customers_silver():\n",
    "    base = spark.table(\"mlops.bronze.customers_raw\")\n",
    "\n",
    "    df = (\n",
    "        base.select(\"customer_id\",\"state\",\"city\",\"units_purchased\",\"loyalty_segment\")\n",
    "            .where(\n",
    "                not_null_and_not_blank(\"customer_id\") &\n",
    "                not_null_and_not_blank(\"state\") &\n",
    "                not_null_and_not_blank(\"city\") &\n",
    "                not_null_and_not_blank(\"units_purchased\") &\n",
    "                not_null_and_not_blank(\"loyalty_segment\")\n",
    "            )\n",
    "    )\n",
    "    return df"
   ]
  },
  {
   "cell_type": "code",
   "execution_count": 0,
   "metadata": {
    "application/vnd.databricks.v1+cell": {
     "cellMetadata": {},
     "inputWidgets": {},
     "nuid": "bcae83ba-a69b-461a-bbdd-4d202f0d3b70",
     "showTitle": false,
     "tableResultSettingsMap": {},
     "title": ""
    }
   },
   "outputs": [],
   "source": [
    "@dlt.table(\n",
    "    name=\"sales_cleansed\",\n",
    "    comment=\"Cleansed sales table (silver).\",\n",
    "    table_properties={\"quality\": \"silver\"}\n",
    ")\n",
    "@dlt.expect_or_fail(\"pk_must_exist\", \"customer_id IS NOT NULL AND trim(customer_id) != ''\")\n",
    "@dlt.expect_all_or_drop({\n",
    "    \"state_present\": \"state IS NOT NULL AND trim(state) != ''\",\n",
    "    \"city_present\": \"city IS NOT NULL AND trim(city) != ''\",\n",
    "    \"units_present\": \"units_purchased IS NOT NULL AND trim(units_purchased) != ''\",\n",
    "    \"loyalty_present\": \"loyalty_segment IS NOT NULL AND trim(loyalty_segment) != ''\"\n",
    "})\n",
    "\n",
    "def customers_silver():\n",
    "    base = spark.table(\"mlops.bronze.customers\")\n",
    "\n",
    "    df = (\n",
    "        base.select(\"customer_id\",\"state\",\"city\",\"units_purchased\",\"loyalty_segment\")\n",
    "            .where(\n",
    "                not_null_and_not_blank(\"customer_id\") &\n",
    "                not_null_and_not_blank(\"state\") &\n",
    "                not_null_and_not_blank(\"city\") &\n",
    "                not_null_and_not_blank(\"units_purchased\") &\n",
    "                not_null_and_not_blank(\"loyalty_segment\")\n",
    "            )\n",
    "    )\n",
    "    return df"
   ]
  }
 ],
 "metadata": {
  "application/vnd.databricks.v1+notebook": {
   "computePreferences": {
    "hardware": {
     "accelerator": null,
     "gpuPoolId": null,
     "memory": null
    }
   },
   "dashboards": [],
   "environmentMetadata": {
    "base_environment": "",
    "environment_version": "2"
   },
   "inputWidgetPreferences": null,
   "language": "python",
   "notebookMetadata": {
    "mostRecentlyExecutedCommandWithImplicitDF": {
     "commandId": 7263053332035942,
     "dataframes": [
      "_sqldf"
     ]
    },
    "pythonIndentUnit": 4
   },
   "notebookName": "03. Silver Layer",
   "widgets": {}
  },
  "language_info": {
   "name": "python"
  }
 },
 "nbformat": 4,
 "nbformat_minor": 0
}
