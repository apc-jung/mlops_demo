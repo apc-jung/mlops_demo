{
 "cells": [
  {
   "cell_type": "markdown",
   "metadata": {
    "application/vnd.databricks.v1+cell": {
     "cellMetadata": {},
     "inputWidgets": {},
     "nuid": "559d0d8b-7da7-46b6-895b-f7dd1f50db17",
     "showTitle": false,
     "tableResultSettingsMap": {},
     "title": ""
    }
   },
   "source": [
    "## 準備準備\n",
    "### カタログ、スキーマ、ボリュームなど"
   ]
  },
  {
   "cell_type": "code",
   "execution_count": 0,
   "metadata": {
    "application/vnd.databricks.v1+cell": {
     "cellMetadata": {
      "byteLimit": 2048000,
      "rowLimit": 10000
     },
     "inputWidgets": {},
     "nuid": "91236668-6f00-4ba0-9db2-aa52477f710a",
     "showTitle": false,
     "tableResultSettingsMap": {},
     "title": ""
    }
   },
   "outputs": [],
   "source": [
    "%fs ls /Volumes/databricks_simulated_retail_customer_data/v01/retail-pipeline/customers/stream_json/"
   ]
  },
  {
   "cell_type": "code",
   "execution_count": 0,
   "metadata": {
    "application/vnd.databricks.v1+cell": {
     "cellMetadata": {
      "byteLimit": 2048000,
      "implicitDf": true,
      "rowLimit": 10000
     },
     "inputWidgets": {},
     "nuid": "25f3d94d-692a-4464-a280-2ba92135c4e6",
     "showTitle": false,
     "tableResultSettingsMap": {},
     "title": ""
    }
   },
   "outputs": [],
   "source": [
    "%sql\n",
    "CREATE CATALOG IF NOT EXISTS MLOps;\n",
    "CREATE SCHEMA IF NOT EXISTS MLOps.raw;\n",
    "CREATE SCHEMA IF NOT EXISTS MLOps.bronze;\n",
    "CREATE SCHEMA IF NOT EXISTS MLOps.silver;\n",
    "CREATE SCHEMA IF NOT EXISTS MLOps.gold;\n",
    "CREATE VOLUME IF NOT EXISTS MLOps.raw.`retail-pipeline`;"
   ]
  },
  {
   "cell_type": "code",
   "execution_count": 0,
   "metadata": {
    "application/vnd.databricks.v1+cell": {
     "cellMetadata": {
      "byteLimit": 2048000,
      "rowLimit": 10000
     },
     "inputWidgets": {},
     "nuid": "1200d7d8-9a94-44fe-971e-03a77104cf10",
     "showTitle": false,
     "tableResultSettingsMap": {},
     "title": ""
    }
   },
   "outputs": [],
   "source": [
    "# ボリュームのコピー\n",
    "src_volume = \"/Volumes/databricks_simulated_retail_customer_data/v01/retail-pipeline/\"\n",
    "dst_volume = \"/Volumes/MLOps/raw/retail-pipeline/\"\n",
    "\n",
    "src_files = dbutils.fs.ls(src_volume)\n",
    "dst_files = dbutils.fs.ls(dst_volume)\n",
    "src_file_names = set(f.name for f in src_files)\n",
    "dst_file_names = set(f.name for f in dst_files)\n",
    "\n",
    "if src_file_names != dst_file_names:\n",
    "    for f in src_files:\n",
    "        src_path = f.path\n",
    "        dst_path = src_path.replace(src_volume, dst_volume, 1)\n",
    "        dbutils.fs.cp(src_path, dst_path, recurse=True)\n",
    "    print(\"複製しました。\")\n",
    "else:\n",
    "    print(\"複製されたファイルが存在します。\")"
   ]
  },
  {
   "cell_type": "code",
   "execution_count": 0,
   "metadata": {
    "application/vnd.databricks.v1+cell": {
     "cellMetadata": {
      "byteLimit": 2048000,
      "rowLimit": 10000
     },
     "inputWidgets": {},
     "nuid": "ca513866-0cea-4ef8-9e39-299a1886ef6b",
     "showTitle": false,
     "tableResultSettingsMap": {},
     "title": ""
    }
   },
   "outputs": [],
   "source": [
    "%fs ls /Volumes/MLOps/raw/retail-pipeline/customers/stream_json/"
   ]
  }
 ],
 "metadata": {
  "application/vnd.databricks.v1+notebook": {
   "computePreferences": {
    "hardware": {
     "accelerator": null,
     "gpuPoolId": null,
     "memory": null
    }
   },
   "dashboards": [],
   "environmentMetadata": {
    "base_environment": "",
    "environment_version": "2"
   },
   "inputWidgetPreferences": null,
   "language": "python",
   "notebookMetadata": {
    "mostRecentlyExecutedCommandWithImplicitDF": {
     "commandId": 7875295295530115,
     "dataframes": [
      "_sqldf"
     ]
    },
    "pythonIndentUnit": 4
   },
   "notebookName": "00. Setup",
   "widgets": {}
  },
  "language_info": {
   "name": "python"
  }
 },
 "nbformat": 4,
 "nbformat_minor": 0
}
