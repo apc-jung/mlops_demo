{
 "cells": [
  {
   "cell_type": "markdown",
   "metadata": {
    "application/vnd.databricks.v1+cell": {
     "cellMetadata": {},
     "inputWidgets": {},
     "nuid": "e4f87798-20c1-47f2-9248-603ce84687e9",
     "showTitle": false,
     "tableResultSettingsMap": {},
     "title": ""
    }
   },
   "source": [
    "## 環境準備"
   ]
  },
  {
   "cell_type": "code",
   "execution_count": 0,
   "metadata": {
    "application/vnd.databricks.v1+cell": {
     "cellMetadata": {},
     "inputWidgets": {},
     "nuid": "07ea7a83-e5cc-4d0f-b6e7-3e8c37ab78c4",
     "showTitle": false,
     "tableResultSettingsMap": {},
     "title": ""
    }
   },
   "outputs": [],
   "source": [
    "import dlt\n",
    "from pyspark.sql import functions as F, types as T"
   ]
  },
  {
   "cell_type": "markdown",
   "metadata": {
    "application/vnd.databricks.v1+cell": {
     "cellMetadata": {},
     "inputWidgets": {},
     "nuid": "e14a88c8-f520-426b-a18a-ced1a87f4e8b",
     "showTitle": false,
     "tableResultSettingsMap": {},
     "title": ""
    }
   },
   "source": [
    "## Bronze Layer"
   ]
  },
  {
   "cell_type": "code",
   "execution_count": 0,
   "metadata": {
    "application/vnd.databricks.v1+cell": {
     "cellMetadata": {},
     "inputWidgets": {},
     "nuid": "4d7f20c6-cd4a-4686-ac97-b176275842bd",
     "showTitle": false,
     "tableResultSettingsMap": {},
     "title": ""
    }
   },
   "outputs": [],
   "source": [
    "@dlt.table()\n",
    "def customers_bronze(table_properties={\"quality\":\"bronze\"}):\n",
    "    return (\n",
    "        spark.readStream.format(\"cloudFiles\")\n",
    "        .option(\"cloudFiles.format\", \"csv\")\n",
    "        .option(\"header\", \"true\")\n",
    "        .option(\"cloudFiles.inferColumnTypes\", \"true\")\n",
    "        .load(\"/Volumes/MLOps/raw/source_files/customers/\")\n",
    "    )"
   ]
  },
  {
   "cell_type": "code",
   "execution_count": 0,
   "metadata": {
    "application/vnd.databricks.v1+cell": {
     "cellMetadata": {},
     "inputWidgets": {},
     "nuid": "bc17dbbf-3628-4afb-b727-6662fef0f0b9",
     "showTitle": false,
     "tableResultSettingsMap": {},
     "title": ""
    }
   },
   "outputs": [],
   "source": [
    "@dlt.table(table_properties={\"quality\":\"bronze\"})\n",
    "def sales_bronze():\n",
    "    return (\n",
    "        spark.readStream.format(\"cloudFiles\")\n",
    "        .option(\"cloudFiles.format\", \"csv\")\n",
    "        .option(\"header\", \"true\")\n",
    "        .option(\"cloudFiles.inferColumnTypes\", \"true\")\n",
    "        .load(\"/Volumes/MLOps/raw/source_files/sales/\")\n",
    "    )"
   ]
  },
  {
   "cell_type": "code",
   "execution_count": 0,
   "metadata": {
    "application/vnd.databricks.v1+cell": {
     "cellMetadata": {},
     "inputWidgets": {},
     "nuid": "7520275b-4f19-4477-b75e-9110b65b7e9a",
     "showTitle": false,
     "tableResultSettingsMap": {},
     "title": ""
    }
   },
   "outputs": [],
   "source": [
    "@dlt.table(table_properties={\"quality\":\"bronze\"})\n",
    "def sales_orders_bronze():\n",
    "    return (\n",
    "        spark.readStream.format(\"cloudFiles\")\n",
    "        .option(\"cloudFiles.format\", \"csv\")\n",
    "        .option(\"header\", \"true\")\n",
    "        .option(\"cloudFiles.inferColumnTypes\", \"true\")\n",
    "        .load(\"/Volumes/MLOps/raw/source_files/sales_orders/\")\n",
    "    )"
   ]
  },
  {
   "cell_type": "markdown",
   "metadata": {
    "application/vnd.databricks.v1+cell": {
     "cellMetadata": {},
     "inputWidgets": {},
     "nuid": "d44a7771-4e29-4b4c-b2a7-e9db22aab474",
     "showTitle": false,
     "tableResultSettingsMap": {},
     "title": ""
    }
   },
   "source": [
    "## Silver Layer"
   ]
  },
  {
   "cell_type": "code",
   "execution_count": 0,
   "metadata": {
    "application/vnd.databricks.v1+cell": {
     "cellMetadata": {},
     "inputWidgets": {},
     "nuid": "20ab43cf-383e-45aa-9364-9aaf0d135c05",
     "showTitle": false,
     "tableResultSettingsMap": {},
     "title": ""
    }
   },
   "outputs": [],
   "source": [
    "# 共通の前処理\n",
    "def not_null_and_not_blank(col_name: str):\n",
    "    return (F.col(col_name).isNotNull()) & (F.trim(F.col(col_name)) != \"\")"
   ]
  },
  {
   "cell_type": "code",
   "execution_count": 0,
   "metadata": {
    "application/vnd.databricks.v1+cell": {
     "cellMetadata": {},
     "inputWidgets": {},
     "nuid": "2d9a3900-de4e-4226-9c5b-3112efa75ed4",
     "showTitle": false,
     "tableResultSettingsMap": {},
     "title": ""
    }
   },
   "outputs": [],
   "source": [
    "@dlt.table(table_properties={\"quality\":\"silver\"})\n",
    "@dlt.expect_or_fail(\"pk_must_exist\", \"customer_id IS NOT NULL AND trim(customer_id) != ''\")\n",
    "@dlt.expect_all_or_drop({\n",
    "    \"state_present\": \"state IS NOT NULL AND trim(state) != ''\",\n",
    "    \"city_present\": \"city IS NOT NULL AND trim(city) != ''\",\n",
    "    \"units_present\": \"units_purchased IS NOT NULL AND trim(units_purchased) != ''\",\n",
    "    \"loyalty_present\": \"loyalty_segment IS NOT NULL AND trim(loyalty_segment) != ''\"\n",
    "})\n",
    "\n",
    "def customers_silver():\n",
    "    base = spark.readStream.table(\"customers_bronze\").alias(\"base\")\n",
    "\n",
    "    df = (\n",
    "        base.select(\"customer_id\",\"state\",\"city\",\"units_purchased\",\"loyalty_segment\")\n",
    "            .where(\n",
    "                not_null_and_not_blank(\"customer_id\") &\n",
    "                not_null_and_not_blank(\"state\") &\n",
    "                not_null_and_not_blank(\"city\") &\n",
    "                not_null_and_not_blank(\"units_purchased\") &\n",
    "                not_null_and_not_blank(\"loyalty_segment\")\n",
    "            )\n",
    "    )\n",
    "    return df"
   ]
  },
  {
   "cell_type": "code",
   "execution_count": 0,
   "metadata": {
    "application/vnd.databricks.v1+cell": {
     "cellMetadata": {},
     "inputWidgets": {},
     "nuid": "ab51b4ba-3591-4750-819c-8c07a8eaf359",
     "showTitle": false,
     "tableResultSettingsMap": {},
     "title": ""
    }
   },
   "outputs": [],
   "source": [
    "@dlt.table(table_properties={\"quality\":\"silver\"})\n",
    "@dlt.expect_all_or_drop({\n",
    "    \"customer_id_present\": \"customer_id IS NOT NULL AND trim(customer_id) != ''\",\n",
    "    \"product_name_present\": \"product_name IS NOT NULL AND trim(product_name) != ''\",\n",
    "    \"order_date_present\": \"order_date IS NOT NULL AND trim(order_date) != ''\",\n",
    "    \"product_category_present\": \"product_category IS NOT NULL AND trim(product_category) != ''\",\n",
    "    \"product_present\": \"product IS NOT NULL AND trim(product) != ''\",\n",
    "    \"total_price_present\": \"total_price IS NOT NULL AND trim(total_price) != ''\"\n",
    "})\n",
    "\n",
    "def sales_silver():\n",
    "    base = spark.readStream.table(\"sales_bronze\").alias(\"base\")\n",
    "\n",
    "    df = (\n",
    "        base.select(\"customer_id\",\"product_name\",\"order_date\",\"product_category\",\"product\",\"total_price\")\n",
    "            .where(\n",
    "                not_null_and_not_blank(\"customer_id\") &\n",
    "                not_null_and_not_blank(\"product_name\") &\n",
    "                not_null_and_not_blank(\"order_date\") &\n",
    "                not_null_and_not_blank(\"product_category\") &\n",
    "                not_null_and_not_blank(\"product\") &\n",
    "                not_null_and_not_blank(\"total_price\")\n",
    "            )\n",
    "    )\n",
    "    return df"
   ]
  },
  {
   "cell_type": "code",
   "execution_count": 0,
   "metadata": {
    "application/vnd.databricks.v1+cell": {
     "cellMetadata": {},
     "inputWidgets": {},
     "nuid": "817ae043-85f3-4125-ab2d-7ad2846aad33",
     "showTitle": false,
     "tableResultSettingsMap": {},
     "title": ""
    }
   },
   "outputs": [],
   "source": [
    "@dlt.table(table_properties={\"quality\":\"silver\"})\n",
    "@dlt.expect_or_fail(\"pk_must_exist\", \"order_number IS NOT NULL AND trim(order_number) != ''\")\n",
    "@dlt.expect_all_or_drop({\n",
    "    \"clicked_items_present\": \"clicked_items IS NOT NULL AND trim(clicked_items) != ''\",\n",
    "    \"customer_id_present\": \"customer_id IS NOT NULL AND trim(customer_id) != ''\",\n",
    "    \"number_of_line_items_present\": \"number_of_line_items IS NOT NULL AND trim(number_of_line_items) != ''\",\n",
    "    \"order_datetime_present\": \"order_datetime IS NOT NULL AND trim(order_datetime) != ''\",\n",
    "    \"ordered_products_present\": \"ordered_products IS NOT NULL AND trim(ordered_products) != ''\",\n",
    "    \"promo_info_present\": \"promo_info IS NOT NULL AND trim(promo_info) != ''\"\n",
    "})\n",
    "\n",
    "def sales_orders_silver():\n",
    "    base = spark.readStream.table(\"sales_orders_bronze\").alias(\"base\")\n",
    "\n",
    "    df = (\n",
    "        base.select(\"clicked_items\",\"customer_id\",\"number_of_line_items\",\"order_datetime\",\"order_number\",\"ordered_products\",\"promo_info\")\n",
    "            .where(\n",
    "                not_null_and_not_blank(\"clicked_items\") &\n",
    "                not_null_and_not_blank(\"customer_id\") &\n",
    "                not_null_and_not_blank(\"number_of_line_items\") &\n",
    "                not_null_and_not_blank(\"order_datetime\") &\n",
    "                not_null_and_not_blank(\"order_number\") &\n",
    "                not_null_and_not_blank(\"ordered_products\") &\n",
    "                not_null_and_not_blank(\"promo_info\")\n",
    "            )\n",
    "    )\n",
    "    return df"
   ]
  },
  {
   "cell_type": "code",
   "execution_count": 0,
   "metadata": {
    "application/vnd.databricks.v1+cell": {
     "cellMetadata": {},
     "inputWidgets": {},
     "nuid": "de176775-9b2f-454d-8a53-5d4cbce0e0a1",
     "showTitle": false,
     "tableResultSettingsMap": {},
     "title": ""
    }
   },
   "outputs": [],
   "source": [
    "@dlt.table(table_properties={\"quality\":\"silver\"})\n",
    "def sales_orders_customer_join_min():\n",
    "    base = dlt.read_stream(\"sales_orders_silver\").alias(\"base\")\n",
    "\n",
    "    so = (\n",
    "        base.select(\"clicked_items\",\"customer_id\",\"number_of_line_items\",\"order_datetime\",\"order_number\",\"ordered_products\",\"promo_info\")\n",
    "    )\n",
    "\n",
    "    c = dlt.read(\"customers_silver\").alias(\"c\")\n",
    "\n",
    "    df = (\n",
    "        so.join(c, \"customer_id\", \"left\")\n",
    "          .select(\"clicked_items\",\"customer_id\",\"number_of_line_items\",\"order_datetime\",\"order_number\",\"ordered_products\",\"promo_info\",\"state\",\"city\",\"units_purchased\",\"loyalty_segment\")\n",
    "    )\n",
    "    return df"
   ]
  },
  {
   "cell_type": "markdown",
   "metadata": {
    "application/vnd.databricks.v1+cell": {
     "cellMetadata": {},
     "inputWidgets": {},
     "nuid": "db66b038-fdef-42c3-8039-0b5b60ecc867",
     "showTitle": false,
     "tableResultSettingsMap": {},
     "title": ""
    }
   },
   "source": [
    "## Gold Layer"
   ]
  },
  {
   "cell_type": "code",
   "execution_count": 0,
   "metadata": {
    "application/vnd.databricks.v1+cell": {
     "cellMetadata": {},
     "inputWidgets": {},
     "nuid": "39e005d0-b846-46f6-8e03-a9fb39e4c552",
     "showTitle": false,
     "tableResultSettingsMap": {},
     "title": ""
    }
   },
   "outputs": [],
   "source": [
    "ITEMS_SCHEMA = T.ArrayType(T.StructType([\n",
    "    T.StructField(\"curr\", T.StringType()),\n",
    "    T.StructField(\"id\",   T.StringType()),\n",
    "    T.StructField(\"name\", T.StringType()),\n",
    "    T.StructField(\"price\",T.StringType()),\n",
    "    T.StructField(\"promotion_info\", T.StringType()),\n",
    "    T.StructField(\"qty\",  T.StringType()),\n",
    "    T.StructField(\"unit\", T.StringType()),\n",
    "]))"
   ]
  },
  {
   "cell_type": "code",
   "execution_count": 0,
   "metadata": {
    "application/vnd.databricks.v1+cell": {
     "cellMetadata": {},
     "inputWidgets": {},
     "nuid": "a866ae1c-31c6-4d5b-9858-ec54755a9625",
     "showTitle": false,
     "tableResultSettingsMap": {},
     "title": ""
    }
   },
   "outputs": [],
   "source": [
    "@dlt.table(table_properties={\"quality\":\"gold\"})\n",
    "def als_interactions_30d():\n",
    "    base = dlt.read(\"sales_orders_customer_join_min\").alias(\"base\")\n",
    "\n",
    "    j = (\n",
    "        base.withColumn(\"ts\", F.to_timestamp(F.from_unixtime(F.col(\"order_datetime\").cast(\"bigint\"))))\n",
    "            .withColumn(\"items\", F.from_json(\"ordered_products\", ITEMS_SCHEMA))\n",
    "            .withColumn(\"p\", F.explode(\"items\"))\n",
    "    )\n",
    "\n",
    "    w30 = F.col(\"ts\") >= F.date_sub(F.current_timestamp(), 30)\n",
    "\n",
    "    return (\n",
    "        j.where(w30)\n",
    "         .select(\n",
    "             \"customer_id\",\n",
    "             F.col(\"p.id\").alias(\"product_id\"),\n",
    "             F.col(\"p.qty\").cast(\"int\").alias(\"qty\")\n",
    "         )\n",
    "         .where(F.col(\"qty\").isNotNull() & (F.col(\"qty\") > 0))\n",
    "         .groupBy(\"customer_id\",\"product_id\")\n",
    "         .agg(F.sum(\"qty\").alias(\"total_qty\"))\n",
    "         .withColumn(\"interaction_weight\", F.log1p(F.col(\"total_qty\")))\n",
    "    )"
   ]
  },
  {
   "cell_type": "code",
   "execution_count": 0,
   "metadata": {
    "application/vnd.databricks.v1+cell": {
     "cellMetadata": {},
     "inputWidgets": {},
     "nuid": "cc5c0d96-e9e9-44fc-bf47-f0533d08b870",
     "showTitle": false,
     "tableResultSettingsMap": {},
     "title": ""
    }
   },
   "outputs": [],
   "source": [
    "@dlt.table(table_properties={\"quality\":\"gold\"})\n",
    "def batch_recommendations_topn_30d():\n",
    "    base = dlt.read(\"sales_orders_customer_join_min\").alias(\"base\")\n",
    "\n",
    "    j = (\n",
    "        base.withColumn(\"ts\", F.to_timestamp(F.from_unixtime(F.col(\"order_datetime\").cast(\"bigint\"))))\n",
    "            .withColumn(\"items\", F.from_json(\"ordered_products\", ITEMS_SCHEMA))\n",
    "            .withColumn(\"p\", F.explode(\"items\"))\n",
    "    )\n",
    "\n",
    "    w30 = F.col(\"ts\") >= F.date_sub(F.current_timestamp(), 30)\n",
    "\n",
    "    scores = (\n",
    "        j.where(w30)\n",
    "         .select(F.col(\"p.id\").alias(\"product_id\"), F.col(\"p.qty\").cast(\"int\").alias(\"qty\"))\n",
    "         .where(F.col(\"qty\").isNotNull() & (F.col(\"qty\") > 0))\n",
    "         .groupBy(\"product_id\")\n",
    "         .agg(F.sum(\"qty\").alias(\"pop_score_30d\"))\n",
    "    )\n",
    "\n",
    "    recent = (\n",
    "        j.where(F.col(\"ts\") >= F.date_sub(F.current_timestamp(), 90))\n",
    "         .select(\"customer_id\", F.col(\"p.id\").alias(\"product_id\"))\n",
    "         .distinct()\n",
    "    )\n",
    "\n",
    "    users = j.select(\"customer_id\").distinct()\n",
    "\n",
    "    from pyspark.sql.window import Window\n",
    "    rec = (\n",
    "        users.crossJoin(scores)\n",
    "             .join(recent, [\"customer_id\",\"product_id\"], \"left_anti\")\n",
    "             .withColumn(\"rk\", F.row_number().over(Window.partitionBy(\"customer_id\").orderBy(F.col(\"pop_score_30d\").desc())))\n",
    "             .where(F.col(\"rk\") <= 10)\n",
    "             .select(\"customer_id\",\"product_id\",\"pop_score_30d\",\"rk\")\n",
    "    )\n",
    "    return rec"
   ]
  }
 ],
 "metadata": {
  "application/vnd.databricks.v1+notebook": {
   "computePreferences": {
    "hardware": {
     "accelerator": null,
     "gpuPoolId": null,
     "memory": null
    }
   },
   "dashboards": [],
   "environmentMetadata": {
    "base_environment": "",
    "environment_version": "2"
   },
   "inputWidgetPreferences": null,
   "language": "python",
   "notebookMetadata": {
    "mostRecentlyExecutedCommandWithImplicitDF": {
     "commandId": 7263053332035942,
     "dataframes": [
      "_sqldf"
     ]
    },
    "pythonIndentUnit": 4
   },
   "notebookName": "02. Data Engineering",
   "widgets": {}
  },
  "language_info": {
   "name": "python"
  }
 },
 "nbformat": 4,
 "nbformat_minor": 0
}
