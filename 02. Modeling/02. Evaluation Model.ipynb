{
 "cells": [
  {
   "cell_type": "code",
   "execution_count": 0,
   "metadata": {
    "application/vnd.databricks.v1+cell": {
     "cellMetadata": {},
     "inputWidgets": {},
     "nuid": "bf87f8d4-6490-448d-84eb-2e5f2177eeae",
     "showTitle": false,
     "tableResultSettingsMap": {},
     "title": ""
    }
   },
   "outputs": [],
   "source": [
    "import mlflow\n",
    "import mlflow.spark\n",
    "from mlflow.exceptions import RestException\n",
    "from pyspark.ml.feature import StringIndexer\n",
    "from pyspark.ml.recommendation import ALS\n",
    "from pyspark.ml.evaluation import RegressionEvaluator"
   ]
  },
  {
   "cell_type": "code",
   "execution_count": 0,
   "metadata": {
    "application/vnd.databricks.v1+cell": {
     "cellMetadata": {},
     "inputWidgets": {},
     "nuid": "1da2f0a6-1015-4b0c-be7b-491945786401",
     "showTitle": false,
     "tableResultSettingsMap": {},
     "title": ""
    }
   },
   "outputs": [],
   "source": [
    "interactions = spark.table(\"MLOps.data.als_interactions_30d\")\n",
    "\n",
    "product_indexer = StringIndexer(\n",
    "    inputCol=\"product_id\",\n",
    "    outputCol=\"product_id_idx\",\n",
    "    handleInvalid=\"skip\"\n",
    ")\n",
    "interactions_indexed = product_indexer.fit(interactions).transform(interactions)\n",
    "\n",
    "train, test = interactions_indexed.randomSplit([0.8, 0.2], seed=42)\n",
    "train.write.mode(\"overwrite\").saveAsTable(\"MLOps.data.train_table\")\n",
    "test.write.mode(\"overwrite\").saveAsTable(\"MLOps.data.test_table\")\n",
    "\n",
    "experiment_path = \"/Workspace/Users/jung@ap-com.co.jp/mlops_demo_model/als_recommendation\"\n",
    "experiment = mlflow.get_experiment_by_name(experiment_path)\n",
    "\n",
    "runs_df = mlflow.search_runs(\n",
    "    experiment_ids=[experiment.experiment_id]\n",
    ")\n",
    "training_runs = runs_df[runs_df[\"tags.mlflow.runName\"] == \"training\"]\n",
    "latest_training_run = training_runs.sort_values(\n",
    "    by=\"start_time\", ascending=False\n",
    ").iloc[0]\n",
    "\n",
    "model_uri = f\"runs:/{latest_training_run.run_id}/als_model\"\n",
    "model = mlflow.spark.load_model(model_uri)\n",
    "print(model_uri)\n",
    "\n",
    "predictions = model.transform(test)\n",
    "evaluator = RegressionEvaluator(\n",
    "    metricName=\"rmse\",\n",
    "    labelCol=\"interaction_weight\",\n",
    "    predictionCol=\"prediction\"\n",
    ")\n",
    "rmse = evaluator.evaluate(predictions)\n",
    "\n",
    "with mlflow.start_run(run_name=\"evaluation\") as run:\n",
    "    mlflow.log_metric(\"rmse\", rmse)\n",
    "    mlflow.log_param(\"evaluated_model_uri\", model_uri)\n",
    "    print(f\"Evaluation finished. RMSE: {rmse}\")"
   ]
  }
 ],
 "metadata": {
  "application/vnd.databricks.v1+notebook": {
   "computePreferences": null,
   "dashboards": [],
   "environmentMetadata": {
    "base_environment": "",
    "environment_version": "2"
   },
   "inputWidgetPreferences": null,
   "language": "python",
   "notebookMetadata": {
    "pythonIndentUnit": 4
   },
   "notebookName": "02. Evaluation Model",
   "widgets": {}
  },
  "language_info": {
   "name": "python"
  }
 },
 "nbformat": 4,
 "nbformat_minor": 0
}
