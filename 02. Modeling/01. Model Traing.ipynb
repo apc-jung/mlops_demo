{
 "cells": [
  {
   "cell_type": "code",
   "execution_count": 0,
   "metadata": {
    "application/vnd.databricks.v1+cell": {
     "cellMetadata": {
      "byteLimit": 2048000,
      "rowLimit": 10000
     },
     "inputWidgets": {},
     "nuid": "05dc4d60-4670-4182-a583-1f7400a50dfd",
     "showTitle": false,
     "tableResultSettingsMap": {},
     "title": ""
    }
   },
   "outputs": [],
   "source": [
    "import mlflow\n",
    "import mlflow.spark\n",
    "from pyspark.ml.recommendation import ALS"
   ]
  },
  {
   "cell_type": "code",
   "execution_count": 0,
   "metadata": {
    "application/vnd.databricks.v1+cell": {
     "cellMetadata": {
      "byteLimit": 2048000,
      "rowLimit": 10000
     },
     "inputWidgets": {},
     "nuid": "1d26670d-07ec-4be1-8f5b-8c365da365a8",
     "showTitle": false,
     "tableResultSettingsMap": {},
     "title": ""
    }
   },
   "outputs": [],
   "source": [
    "interactions = spark.table(\"test_catalog.default.als_interactions_30d\")\n",
    "\n",
    "als = ALS(\n",
    "    userCol=\"customer_id\",\n",
    "    itemCol=\"product_id\",\n",
    "    ratingCol=\"interaction_weight\",\n",
    "    implicitPrefs=True,\n",
    "    coldStartStrategy=\"drop\",\n",
    "    rank=20,\n",
    "    maxIter=10,\n",
    "    regParam=0.1\n",
    ")\n",
    "\n",
    "mlflow.set_experiment(\"/Workspace/Users/jung@ap-com.co.jp/mlops_demo/02. Modeling/\")\n",
    "\n",
    "with mlflow.start_run():\n",
    "    model = als.fit(interactions)\n",
    "    \n",
    "    mlflow.spark.log_model(model, \"als_model\")\n",
    "\n",
    "    mlflow.log_param(\"rank\", 20)\n",
    "    mlflow.log_param(\"maxIter\", 10)\n",
    "    mlflow.log_param(\"regParam\", 0.1)"
   ]
  }
 ],
 "metadata": {
  "application/vnd.databricks.v1+notebook": {
   "computePreferences": {
    "hardware": {
     "accelerator": null,
     "gpuPoolId": null,
     "memory": null
    }
   },
   "dashboards": [],
   "environmentMetadata": {
    "base_environment": "",
    "environment_version": "2"
   },
   "inputWidgetPreferences": null,
   "language": "python",
   "notebookMetadata": {
    "pythonIndentUnit": 4
   },
   "notebookName": "01. Model Traing",
   "widgets": {}
  },
  "language_info": {
   "name": "python"
  }
 },
 "nbformat": 4,
 "nbformat_minor": 0
}
